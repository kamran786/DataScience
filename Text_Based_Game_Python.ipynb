{
 "cells": [
  {
   "cell_type": "code",
   "execution_count": 1,
   "metadata": {},
   "outputs": [],
   "source": [
    "import time\n",
    "import matplotlib.pyplot as plt\n",
    "mylist = []"
   ]
  },
  {
   "cell_type": "code",
   "execution_count": 2,
   "metadata": {},
   "outputs": [],
   "source": [
    "def show1():\n",
    "    x = step\n",
    "    y = bullet\n",
    "    plt.bar(\"Steps Taken\",x, align= 'center', alpha = 0.5)\n",
    "    plt.bar(\"Bullet Left\",y,align= 'center', alpha = 0.5)\n",
    "    plt.title('Terrorsit Strike:')\n",
    "    plt.show()"
   ]
  },
  {
   "cell_type": "markdown",
   "metadata": {},
   "source": [
    "# Store Steps"
   ]
  },
  {
   "cell_type": "code",
   "execution_count": 3,
   "metadata": {},
   "outputs": [],
   "source": [
    "def steps():\n",
    "    global mylist\n",
    "    print(\"****List of all the moves made in the game:**** \\n\")\n",
    "    for i in range(len(mylist)):\n",
    "        print(i + 1,\".\", mylist[i])"
   ]
  },
  {
   "cell_type": "markdown",
   "metadata": {},
   "source": [
    "# Introduction to Game"
   ]
  },
  {
   "cell_type": "code",
   "execution_count": 4,
   "metadata": {},
   "outputs": [],
   "source": [
    "def gameintroduction():\n",
    "    print(\"TERRORIST STRIKE: CONDITION ZERO BEGINS!!\\n\")\n",
    "    time.sleep(1)\n",
    "    print(\"TERRORIST STRIKE focuses on a battle between two teams; the terrorists and the Anti-terrorist Squad.\\n\")\n",
    "    time.sleep(1)\n",
    "    print(\"Player objective is to kill all the terrorists hiding in the building and safely escape all the hostages\\n\")\n",
    "    time.sleep(1)\n",
    "    print(\"Be very careful while opening fire as there are hostages that include small kids and ladies...\\n\")\n",
    "    time.sleep(1)\n",
    "    print(\"Also, the bullets are limited and you do not know how many terrorists are inside the building \"\n",
    "          \"so be watchful and don't waste the bullets\\n\")\n",
    "    time.sleep(1)\n",
    "    print(\"Remember, you’re against the clock - so watch out for every step you make in the game!\\n\")\n",
    "    time.sleep(1)\n",
    "    print(\"Just follow the commands displayed on screen to move the player and perform action \\n\")\n",
    "    time.sleep(1)\n",
    "\n",
    "    startterroriststrike()"
   ]
  },
  {
   "cell_type": "markdown",
   "metadata": {},
   "source": [
    "# Successful fire hit"
   ]
  },
  {
   "cell_type": "code",
   "execution_count": 5,
   "metadata": {},
   "outputs": [],
   "source": [
    "def fire():\n",
    "    global bullet\n",
    "    if bullet > 0:\n",
    "        print(\"Nice shot officer!! The bullet hit terrorist's forehead. He's dead.\")\n",
    "        global attackterrorist\n",
    "        attackterrorist = attackterrorist - 1\n",
    "        bullet = bullet - 1\n",
    "        print(\"Bullets: \" + str(bullet))\n",
    "        print(\"Terrorists Remaining: \" + str(attackterrorist))\n",
    "    elif bullet == 0:\n",
    "        nobullet()"
   ]
  },
  {
   "cell_type": "markdown",
   "metadata": {},
   "source": [
    "# Unsuccessful fire hit"
   ]
  },
  {
   "cell_type": "code",
   "execution_count": 7,
   "metadata": {},
   "outputs": [],
   "source": [
    "def misfire():\n",
    "    global bullet\n",
    "    if bullet > 0:\n",
    "        print(\" U missed the target. Take a new shot.\")\n",
    "        bullet = bullet - 1\n",
    "        print(\"Bullets: \" + str(bullet))\n",
    "    elif bullet == 0:\n",
    "        nobullet()"
   ]
  },
  {
   "cell_type": "markdown",
   "metadata": {},
   "source": [
    "# Player runs out of bullet"
   ]
  },
  {
   "cell_type": "code",
   "execution_count": 8,
   "metadata": {},
   "outputs": [],
   "source": [
    "def nobullet():\n",
    "    print(\"You run out of bullets. You are dead. Please restart the game to continue.\")\n",
    "    startterroriststrike()"
   ]
  },
  {
   "cell_type": "markdown",
   "metadata": {},
   "source": [
    "# Win Message"
   ]
  },
  {
   "cell_type": "code",
   "execution_count": 9,
   "metadata": {},
   "outputs": [],
   "source": [
    "def win():\n",
    "    if attackterrorist == 0:\n",
    "        print(\"Bravo!!!! You killed all the terrorists and safely rescued all the hostages.\")\n",
    "        print('''****YOU WON!!!''')\n",
    "        print('''****GAME OVER.****''')\n",
    "        print(\"\\n\")\n",
    "        report()\n",
    "        print(\"\\n\")\n",
    "        print('''****OPTIONS***\"\n",
    "                    1. See the stats\n",
    "                    2. Restart''')\n",
    "\n",
    "        move = prompt()\n",
    "\n",
    "        if move == \"1\":\n",
    "            stats()\n",
    "        elif move == \"2\":\n",
    "            startterroriststrike()"
   ]
  },
  {
   "cell_type": "markdown",
   "metadata": {},
   "source": [
    "# Stats to be displayed when player wins and selects to see stats"
   ]
  },
  {
   "cell_type": "code",
   "execution_count": 10,
   "metadata": {},
   "outputs": [],
   "source": [
    "def stats():\n",
    "    print(\"Bullets Remaining: \" + str(bullet))\n",
    "    print(\"Terrorists Remaining: \" + str(attackterrorist))\n",
    "    print(\"Total moves made: \" + str(step))\n",
    "    print(\"\\n\")\n",
    "    steps()\n",
    "    show1()\n",
    "    f = open(\"../stepstaken.txt\", \"w+\")\n",
    "    f.write(\"\\n\".join(mylist))\n",
    "    f.close()\n",
    "    print(\"\\n\")\n",
    "    print('''Thanks for playing the game.''')\n",
    "    exit()"
   ]
  },
  {
   "cell_type": "code",
   "execution_count": 11,
   "metadata": {},
   "outputs": [],
   "source": [
    "def prompt():\n",
    "    allowed = set(\"12345\")\n",
    "\n",
    "    while True:\n",
    "        message = input(\"Make your move: \")\n",
    "\n",
    "        if message and allowed.issuperset(message):\n",
    "            return message\n",
    "\n",
    "        print(\"Invalid characters entered!\")"
   ]
  },
  {
   "cell_type": "code",
   "execution_count": 12,
   "metadata": {},
   "outputs": [],
   "source": [
    "def command():\n",
    "    k = input(\"Type 'Fire' to kill the terrorist: \")\n",
    "    return k"
   ]
  },
  {
   "cell_type": "markdown",
   "metadata": {},
   "source": [
    "# Main Menu"
   ]
  },
  {
   "cell_type": "code",
   "execution_count": 14,
   "metadata": {},
   "outputs": [],
   "source": [
    "def startterroriststrike():\n",
    "\n",
    "    global attackterrorist\n",
    "    attackterrorist = 9\n",
    "    global count\n",
    "    count = 0\n",
    "    global step\n",
    "    step = 0\n",
    "    global bullet\n",
    "    bullet = 12\n",
    "    global terrorist1\n",
    "    terrorist1 = True\n",
    "    global terrorist2\n",
    "    terrorist2 = True\n",
    "    global terrorist3\n",
    "    terrorist3 = True\n",
    "    global terrorist4\n",
    "    terrorist4 = True\n",
    "    global terrorist5\n",
    "    terrorist5 = True\n",
    "    global terrorist6\n",
    "    terrorist6 = True\n",
    "    global terrorist7\n",
    "    terrorist7 = True\n",
    "    global terrorist8\n",
    "    terrorist8 = True\n",
    "    global terrorist9\n",
    "    terrorist9 = True\n",
    "    \n",
    "    print('''****OPTIONS***\"\n",
    "        1. Enter the main gate\n",
    "        2. Exit''')\n",
    "\n",
    "    move = prompt()\n",
    "    if move == \"1\":\n",
    "        entergame()\n",
    "\n",
    "    elif move == \"2\":\n",
    "        exitgame()\n",
    "\n",
    "    else:\n",
    "        startterroriststrike()"
   ]
  },
  {
   "cell_type": "markdown",
   "metadata": {},
   "source": [
    "# Enter the game"
   ]
  },
  {
   "cell_type": "code",
   "execution_count": 15,
   "metadata": {},
   "outputs": [],
   "source": [
    "def entergame():\n",
    "    global step\n",
    "    global count\n",
    "    if count == 0:\n",
    "        print(\"****************************************\")\n",
    "        print(\"Welcome to Terrorist Strike: Condition Zero\")\n",
    "\n",
    "    if count >= 0:\n",
    "        print(\"Options:\")\n",
    "        print('''\n",
    "           1. Pick the call from officer for further advice about the case\n",
    "           2. Go to parking\n",
    "           3. Take the lift\n",
    "           4. Explore the building map\n",
    "           5. Begin search on Ground floor''')\n",
    "\n",
    "    count = count + 1\n",
    "    step = step + 1\n",
    "\n",
    "    move = prompt()\n",
    "    if move == \"1\":\n",
    "        mylist.append('Pick the call from officer for further advice about the case')\n",
    "        pickcall()\n",
    "    elif move == \"2\":\n",
    "        mylist.append('Go to parking')\n",
    "        parking()\n",
    "    elif move == \"3\":\n",
    "        mylist.append('Take the lift')\n",
    "        lift()\n",
    "    elif move == \"4\":\n",
    "        mylist.append('Explore the building map')\n",
    "        exploremap()\n",
    "    elif move == \"5\":\n",
    "        mylist.append('Begin search on Ground floor')\n",
    "        groundfloor()\n",
    "    else:\n",
    "        print(\"Invalid characters entered!\")\n",
    "        entergame()"
   ]
  },
  {
   "cell_type": "markdown",
   "metadata": {},
   "source": [
    "# Exit Game"
   ]
  },
  {
   "cell_type": "code",
   "execution_count": 16,
   "metadata": {},
   "outputs": [],
   "source": [
    "def exitgame():\n",
    "    print(\"Thanks for playing the game!!! Hope to see you again.\")\n",
    "    exit()"
   ]
  },
  {
   "cell_type": "markdown",
   "metadata": {},
   "source": [
    "# Pick officer call"
   ]
  },
  {
   "cell_type": "code",
   "execution_count": 17,
   "metadata": {},
   "outputs": [],
   "source": [
    "def pickcall():\n",
    "    global bullet\n",
    "    global step\n",
    "    print('''********\n",
    "    Officer: \"Information is that some terrorists are hiding on the first floor lift, Please begin your search there. \n",
    "       I REPEAT FIRST FLOOR-LIFT AREA. \n",
    "              Over and Out!!!.\"\n",
    "\n",
    "    1. Directly go to lift as instructed on call\n",
    "    2. Skip the instructions and go to rest room\n",
    "    3. Wait for the terrorist to come out\n",
    "    4. Enter the front gate\n",
    "    5. Go back to entrance\n",
    "    ''')\n",
    "\n",
    "    step = step + 1\n",
    "\n",
    "    move = prompt()\n",
    "    if move == \"1\":\n",
    "        mylist.append('Directly go to lift as instructed on call')\n",
    "        lift()\n",
    "    elif move == \"2\":\n",
    "        mylist.append('Skip the instructions and go to rest room')\n",
    "        restroom()\n",
    "\n",
    "    elif move == \"3\":\n",
    "        mylist.append('Wait for the terrorist to come out')\n",
    "        wait()\n",
    "    elif move == \"4\":\n",
    "        mylist.append('Enter the front gate')\n",
    "        frontdoor()\n",
    "    elif move == \"5\":\n",
    "        mylist.append('Enter the front gate')\n",
    "        entergame()\n",
    "    else:\n",
    "        pickcall()"
   ]
  },
  {
   "cell_type": "markdown",
   "metadata": {},
   "source": [
    "# Enter parking"
   ]
  },
  {
   "cell_type": "code",
   "execution_count": 18,
   "metadata": {},
   "outputs": [],
   "source": [
    "def parking():\n",
    "    global step\n",
    "    global terrorist1\n",
    "    print(\"***************PARKING ZONE*********************\")\n",
    "    print(\"****Be Careful****\")\n",
    "    print(\"Options:\")\n",
    "    print('''\n",
    "          1. Approach and kill the terrorist and navigate to Ground floor\n",
    "          2. Exit parking\n",
    "          3. Go left and take the stairs up\n",
    "          4. Go right and enter the door towards rest room\n",
    "          5. Go back to entrance''')\n",
    "\n",
    "    step = step + 1\n",
    "\n",
    "    move = prompt()\n",
    "    if move == \"1\" and terrorist1 is True:\n",
    "        hit = command()\n",
    "        if hit == \"Fire\" and bullet > 0:\n",
    "            fire()\n",
    "            mylist.append('Approached and killed the terrorist and navigate to Ground floor')\n",
    "            terrorist1 = False\n",
    "            win()\n",
    "        elif bullet == 0:\n",
    "            nobullet()\n",
    "            return\n",
    "        elif hit != \"Fire\" and bullet > 0:\n",
    "            misfire()\n",
    "            parking()\n",
    "            return\n",
    "        groundfloor()\n",
    "\n",
    "    elif move == \"1\" and terrorist1 is False:\n",
    "        dead()\n",
    "        mylist.append('Exit parking')\n",
    "        parking()\n",
    "\n",
    "    elif move == \"2\":\n",
    "        entergame()\n",
    "    elif move == \"3\":\n",
    "        mylist.append('Went left and took the stairs up')\n",
    "        firstfloor()\n",
    "    elif move == \"4\":\n",
    "        mylist.append('Went right and entered the door towards rest room')\n",
    "        restroom()\n",
    "    elif move == \"5\":\n",
    "        mylist.append('Went back to entrance')\n",
    "        entergame()\n",
    "    else:\n",
    "        parking()"
   ]
  },
  {
   "cell_type": "markdown",
   "metadata": {},
   "source": [
    "# Enter Lift"
   ]
  },
  {
   "cell_type": "code",
   "execution_count": 19,
   "metadata": {},
   "outputs": [],
   "source": [
    "def lift():\n",
    "    global step\n",
    "    global terrorist2, terrorist3, terrorist4\n",
    "    print(\"**************IN LIFT**********************\")\n",
    "    print(\"****GET READY WITH YOUR GUN****\")\n",
    "    print(\"Options:\")\n",
    "    print('''\n",
    "              1. Kill the terrorist in the lift and come out\n",
    "              2. Kill the terrorist in the lift and continue Left\n",
    "              3. Kill the terrorist in the lift and continue Right\n",
    "              4. Go back to entrance\n",
    "              5. Run away''')\n",
    "\n",
    "    step = step + 1\n",
    "\n",
    "    move = prompt()\n",
    "    if move == \"1\"and terrorist2 is True:\n",
    "        hit = command()\n",
    "        if hit == \"Fire\" and bullet > 0:\n",
    "            fire()\n",
    "            mylist.append('Killed the terrorist in the lift and came out')\n",
    "            terrorist2 = False\n",
    "            win()\n",
    "        elif bullet == 0:\n",
    "            nobullet()\n",
    "            return\n",
    "        elif hit != \"Fire\" and bullet > 0:\n",
    "            misfire()\n",
    "            lift()\n",
    "            return\n",
    "        parking()\n",
    "\n",
    "    elif move == \"1\" and terrorist2 is False:\n",
    "        dead()\n",
    "        lift()\n",
    "\n",
    "    elif move == \"2\" and terrorist3 is True:\n",
    "        hit = command()\n",
    "        if hit == \"Fire\" and bullet > 0:\n",
    "            fire()\n",
    "            mylist.append('Killed the terrorist in the lift and continued Left')\n",
    "            terrorist3 = False\n",
    "            win()\n",
    "        elif bullet == 0:\n",
    "            nobullet()\n",
    "            return\n",
    "        elif hit != \"Fire\" and bullet > 0:\n",
    "            misfire()\n",
    "            lift()\n",
    "            return\n",
    "        restroom()\n",
    "\n",
    "    elif move == \"2\" and terrorist3 is False:\n",
    "        dead()\n",
    "        lift()\n",
    "\n",
    "    elif move == \"3\" and terrorist4 is True:\n",
    "        hit = command()\n",
    "        if hit == \"Fire\" and bullet > 0:\n",
    "            fire()\n",
    "            mylist.append('Killed the terrorist in the lift and continued right')\n",
    "            terrorist4 = False\n",
    "            win()\n",
    "        elif bullet == 0:\n",
    "            nobullet()\n",
    "            return\n",
    "        elif hit != \"Fire\" and bullet > 0:\n",
    "            misfire()\n",
    "            lift()\n",
    "            return\n",
    "        groundfloor()\n",
    "\n",
    "    elif move == \"3\" and terrorist4 is False:\n",
    "        dead()\n",
    "        lift()\n",
    "\n",
    "    elif move == \"4\":\n",
    "        mylist.append('Go back to entrance')\n",
    "        entergame()\n",
    "    else:\n",
    "        mylist.append('Ran away')\n",
    "        exitgame()"
   ]
  },
  {
   "cell_type": "markdown",
   "metadata": {},
   "source": [
    "# Map Explore"
   ]
  },
  {
   "cell_type": "code",
   "execution_count": 20,
   "metadata": {},
   "outputs": [],
   "source": [
    "def exploremap():\n",
    "    global step\n",
    "    print(\"**************EXPLORE MAP**********************\")\n",
    "    print(\"Options:\")\n",
    "    print('''\n",
    "            1. Continue to fight terrorists\n",
    "            2. Exit the game''')\n",
    "\n",
    "    step = step + 1\n",
    "    move = prompt()\n",
    "    if move == \"1\":\n",
    "        mylist.append('Continued to fight terrorists')\n",
    "        entergame()\n",
    "    elif move == \"2\":\n",
    "        mylist.append('Exit the game')\n",
    "        exitgame()\n",
    "    else:\n",
    "        exploremap()"
   ]
  },
  {
   "cell_type": "markdown",
   "metadata": {},
   "source": [
    "# Navigate to Ground floor"
   ]
  },
  {
   "cell_type": "code",
   "execution_count": 22,
   "metadata": {},
   "outputs": [],
   "source": [
    "def groundfloor():\n",
    "    global step\n",
    "    global terrorist5\n",
    "    print(\"**************SEARCH GROUND FLOOR**********************\")\n",
    "    print(\"****GET READY WITH YOUR GUN****\")\n",
    "    print(\"Options:\")\n",
    "    print('''\n",
    "                1. Approach and kill the terrorist and move to First floor\n",
    "                2. Continue towards first floor\n",
    "                3. Run away\n",
    "                4. Navigate towards parking\n",
    "                5. Go back to entrance''')\n",
    "\n",
    "    step = step + 1\n",
    "    move = prompt()\n",
    "    if move == \"1\" and terrorist5 is True:\n",
    "        global attackterrorist\n",
    "        hit = command()\n",
    "        if hit == \"Fire\" and bullet > 0:\n",
    "            fire()\n",
    "            mylist.append('Approached and killed the terrorist and moved to First floor')\n",
    "            terrorist5 = False\n",
    "            win()\n",
    "        elif bullet == 0:\n",
    "            nobullet()\n",
    "            return\n",
    "        elif hit != \"Fire\" and bullet > 0:\n",
    "            misfire()\n",
    "            groundfloor()\n",
    "            return\n",
    "        firstfloor()\n",
    "\n",
    "    elif move == \"1\" and terrorist5 is False:\n",
    "        dead()\n",
    "        groundfloor()\n",
    "\n",
    "    elif move == \"2\":\n",
    "        mylist.append('Continued towards first floor')\n",
    "        firstfloor()\n",
    "    elif move == \"3\":\n",
    "        mylist.append('Ran away')\n",
    "        exitgame()\n",
    "    elif move == \"4\":\n",
    "        mylist.append('Navigated towards parking')\n",
    "        parking()\n",
    "    elif move == \"5\":\n",
    "        mylist.append('Went back to entrance')\n",
    "        entergame()\n",
    "    else:\n",
    "        groundfloor()"
   ]
  },
  {
   "cell_type": "markdown",
   "metadata": {},
   "source": [
    "# Navigate to First floor"
   ]
  },
  {
   "cell_type": "code",
   "execution_count": 23,
   "metadata": {},
   "outputs": [],
   "source": [
    "def firstfloor():\n",
    "    global count\n",
    "    global step\n",
    "    global terrorist6\n",
    "    print(\"**************SEARCH FIRST FLOOR**********************\")\n",
    "    print(\"****GET READY WITH YOUR GUN****\")\n",
    "    print(\"Options:\")\n",
    "    print('''\n",
    "            1. Approach and kill the terrorist\n",
    "            2. Go to ground floor\n",
    "            3. Go to Parking\n",
    "            4. Go back to entrance''')\n",
    "\n",
    "    step = step + 1\n",
    "\n",
    "    move = prompt()\n",
    "    if move == \"1\" and terrorist6 is True:\n",
    "        global attackterrorist\n",
    "        hit = command()\n",
    "        if hit == \"Fire\" and bullet > 0:\n",
    "            fire()\n",
    "            mylist.append('Approached and killed the terrorist')\n",
    "            terrorist6 = False\n",
    "            win()\n",
    "        elif bullet == 0:\n",
    "            nobullet()\n",
    "            return\n",
    "        elif hit != \"Fire\" and bullet > 0:\n",
    "            misfire()\n",
    "            firstfloor()\n",
    "            return\n",
    "        lift()\n",
    "\n",
    "    elif move == \"1\" and terrorist6 is False:\n",
    "        dead()\n",
    "        firstfloor()\n",
    "\n",
    "    elif move == \"2\":\n",
    "        mylist.append('Went to ground floor')\n",
    "        groundfloor()\n",
    "    elif move == \"3\":\n",
    "        mylist.append('Went to Parking')\n",
    "        parking()\n",
    "    elif move == \"4\":\n",
    "        mylist.append('Went back to entrance')\n",
    "        entergame()\n",
    "    else:\n",
    "        firstfloor()"
   ]
  },
  {
   "cell_type": "code",
   "execution_count": 24,
   "metadata": {},
   "outputs": [],
   "source": [
    "def wait():\n",
    "    global step\n",
    "    print(\"**************Wait for any further instructions**********************\")\n",
    "\n",
    "    step = step + 1\n",
    "    pickcall()"
   ]
  },
  {
   "cell_type": "markdown",
   "metadata": {},
   "source": [
    "# Navigate to Front door"
   ]
  },
  {
   "cell_type": "code",
   "execution_count": 26,
   "metadata": {},
   "outputs": [],
   "source": [
    "def frontdoor():\n",
    "    global step\n",
    "    global terrorist7, terrorist8\n",
    "    print(\"**************ENTER FRONT DOOR**********************\")\n",
    "    print(\"****GET READY WITH YOUR GUN****\")\n",
    "    print(\"Options:\")\n",
    "    print('''\n",
    "            1. Kill the terrorist and navigate towards Parking\n",
    "            2. Kill the terrorist and navigate towards rest room\n",
    "            3. Go to first floor\n",
    "            4. Go to lift\n",
    "            5. Go back to entrance''')\n",
    "\n",
    "    step = step + 1\n",
    "\n",
    "    move = prompt()\n",
    "    if move == \"1\" and terrorist7 is True:\n",
    "        global attackterrorist\n",
    "        hit = command()\n",
    "        if hit == \"Fire\" and bullet > 0:\n",
    "            fire()\n",
    "            mylist.append('Killed the terrorist and navigated towards Parking')\n",
    "            terrorist7 = False\n",
    "            win()\n",
    "        elif bullet == 0:\n",
    "            nobullet()\n",
    "            return\n",
    "        elif hit != \"Fire\" and bullet > 0:\n",
    "            misfire()\n",
    "            frontdoor()\n",
    "            return\n",
    "        parking()\n",
    "\n",
    "    elif move == \"1\" and terrorist7 is False:\n",
    "        dead()\n",
    "        frontdoor()\n",
    "\n",
    "    elif move == \"2\" and terrorist8 is True:\n",
    "        hit = command()\n",
    "        if hit == \"Fire\" and bullet > 0:\n",
    "            fire()\n",
    "            mylist.append('Killed the terrorist and navigated towards rest room')\n",
    "            terrorist8 = False\n",
    "            win()\n",
    "        elif bullet == 0:\n",
    "            nobullet()\n",
    "            return\n",
    "        restroom()\n",
    "\n",
    "    elif move == \"2\" and terrorist8 is False:\n",
    "        dead()\n",
    "        frontdoor()\n",
    "\n",
    "    elif move == \"3\":\n",
    "        mylist.append('Went to first floor')\n",
    "        firstfloor()\n",
    "    elif move == \"4\":\n",
    "        mylist.append('Went to lift')\n",
    "        lift()\n",
    "    elif move == \"5\":\n",
    "        mylist.append('Went back to entrance')\n",
    "        entergame()\n",
    "    else:\n",
    "        frontdoor()"
   ]
  },
  {
   "cell_type": "markdown",
   "metadata": {},
   "source": [
    "# Navigate to restroom"
   ]
  },
  {
   "cell_type": "code",
   "execution_count": 28,
   "metadata": {},
   "outputs": [],
   "source": [
    "def restroom():\n",
    "    global step\n",
    "    global terrorist9\n",
    "    print(\"**************IN RESTROOM**********************\")\n",
    "    print(\"Options:\")\n",
    "    print('''\n",
    "                1. Use services\n",
    "                2. Kill the terrorist and continue hunt on ground floor\n",
    "                3. Go to first floor\n",
    "                4. Go to lift\n",
    "                5. Go back to entrance''')\n",
    "\n",
    "    step = step + 1\n",
    "\n",
    "    move = prompt()\n",
    "    if move == \"1\":\n",
    "        print(\"Be alert while using the restroom services, the terrorists can be anywhere and might attack from back\")\n",
    "        mylist.append('Used restroom services')\n",
    "        restroom()\n",
    "    elif move == \"2\" and terrorist9 is True:\n",
    "        global attackterrorist\n",
    "        hit = command()\n",
    "        if hit == \"Fire\" and bullet > 0:\n",
    "            fire()\n",
    "            mylist.append('Killed the terrorist and continued hunt on ground floor')\n",
    "            terrorist9 = False\n",
    "            win()\n",
    "        elif bullet == 0:\n",
    "            nobullet()\n",
    "            return\n",
    "        elif hit != \"Fire\" and bullet > 0:\n",
    "            misfire()\n",
    "            restroom()\n",
    "            return\n",
    "        groundfloor()\n",
    "\n",
    "    elif move == \"2\" and terrorist9 is False:\n",
    "        dead()\n",
    "        restroom()\n",
    "\n",
    "    elif move == \"3\":\n",
    "        mylist.append('Went to first floor')\n",
    "        firstfloor()\n",
    "    elif move == \"4\":\n",
    "        mylist.append('Went to lift')\n",
    "        lift()\n",
    "    elif move == \"5\":\n",
    "        mylist.append('Went back to entrance')\n",
    "        entergame()\n",
    "    else:\n",
    "        restroom()"
   ]
  },
  {
   "cell_type": "markdown",
   "metadata": {},
   "source": [
    "# Enter report"
   ]
  },
  {
   "cell_type": "code",
   "execution_count": 30,
   "metadata": {},
   "outputs": [],
   "source": [
    "def report():\n",
    "    print('''As a commanding officer of ATS who lead his team to glory, you are required to fill and submit below report\n",
    "    based on the concluded operation to US Department of State\\n''')\n",
    "    print('''****Counter Terrorist Operation Report****\\n''')\n",
    "    name = input(\"Name of the Commanding Officer: \\n\")\n",
    "    print(\"Well done!\", name, \", country is proud to have officers like you.\\n\")\n",
    "    age = input(\"Age of the Commanding Officer: \\n\")\n",
    "    print(\"At the age of just\", str(age), \"you lead such a major operation. Bravo lad!\\n\")\n",
    "    terroristkilled = input(\"How many total terrorists you killed in the operation: \\n\")\n",
    "    terroristkilled = int(terroristkilled)\n",
    "    print(\"Total terrorists killed in last 15 operations\", terroristkilled + 100, \"\\n\")\n",
    "    submit = input(\"That's it. We are done. Press '1' to submit the report \\n\")\n",
    "    while submit != \"1\":\n",
    "        input(\"Invalid choice. Please enter '1' to submit the report \\n\")\n",
    "        if submit == \"1\":\n",
    "            break\n",
    "    print(\"Submitting...\")\n",
    "    time.sleep(3)\n",
    "    print(\"Submitted. Thanks for playing the game.\")\n",
    "    return"
   ]
  },
  {
   "cell_type": "markdown",
   "metadata": {},
   "source": [
    "# If terrorist is already dead"
   ]
  },
  {
   "cell_type": "code",
   "execution_count": null,
   "metadata": {},
   "outputs": [],
   "source": [
    "def dead():\n",
    "    print(\"\\n\")\n",
    "    print(\"You already killed this terrorist. Please move on and select another move. \")\n",
    "    print(\"\\n\")"
   ]
  },
  {
   "cell_type": "code",
   "execution_count": null,
   "metadata": {},
   "outputs": [],
   "source": [
    "gameintroduction()"
   ]
  },
  {
   "cell_type": "code",
   "execution_count": null,
   "metadata": {},
   "outputs": [],
   "source": []
  }
 ],
 "metadata": {
  "kernelspec": {
   "display_name": "Python 3",
   "language": "python",
   "name": "python3"
  },
  "language_info": {
   "codemirror_mode": {
    "name": "ipython",
    "version": 3
   },
   "file_extension": ".py",
   "mimetype": "text/x-python",
   "name": "python",
   "nbconvert_exporter": "python",
   "pygments_lexer": "ipython3",
   "version": "3.7.0"
  }
 },
 "nbformat": 4,
 "nbformat_minor": 2
}
